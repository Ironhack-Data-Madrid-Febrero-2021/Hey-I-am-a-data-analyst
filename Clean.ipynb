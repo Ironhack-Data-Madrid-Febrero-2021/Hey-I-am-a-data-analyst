{
 "cells": [
  {
   "cell_type": "markdown",
   "id": "urban-dividend",
   "metadata": {},
   "source": [
    "## Importing libraries"
   ]
  },
  {
   "cell_type": "code",
   "execution_count": 2,
   "id": "graphic-independence",
   "metadata": {},
   "outputs": [],
   "source": [
    "import pandas as pd"
   ]
  },
  {
   "cell_type": "markdown",
   "id": "athletic-redhead",
   "metadata": {},
   "source": [
    "## Datasets"
   ]
  },
  {
   "cell_type": "code",
   "execution_count": 19,
   "id": "young-electricity",
   "metadata": {},
   "outputs": [],
   "source": [
    "# Reading Datasets\n",
    "h2015 = pd.read_csv('dataset/2015.csv')\n",
    "h2016 = pd.read_csv('dataset/2016.csv')\n",
    "h2017 = pd.read_csv('dataset/2017.csv')\n",
    "h2018 = pd.read_csv('dataset/2018.csv')\n",
    "h2019 = pd.read_csv('dataset/2019.csv')"
   ]
  },
  {
   "cell_type": "code",
   "execution_count": 22,
   "id": "controversial-surfing",
   "metadata": {},
   "outputs": [],
   "source": [
    "# Creating a copy to work with\n",
    "happiness = h2019.copy()"
   ]
  },
  {
   "cell_type": "code",
   "execution_count": 8,
   "id": "congressional-latino",
   "metadata": {},
   "outputs": [
    {
     "name": "stdout",
     "output_type": "stream",
     "text": [
      "<class 'pandas.core.frame.DataFrame'>\n",
      "RangeIndex: 158 entries, 0 to 157\n",
      "Data columns (total 12 columns):\n",
      "Country                          158 non-null object\n",
      "Region                           158 non-null object\n",
      "Happiness Rank                   158 non-null int64\n",
      "Happiness Score                  158 non-null float64\n",
      "Standard Error                   158 non-null float64\n",
      "Economy (GDP per Capita)         158 non-null float64\n",
      "Family                           158 non-null float64\n",
      "Health (Life Expectancy)         158 non-null float64\n",
      "Freedom                          158 non-null float64\n",
      "Trust (Government Corruption)    158 non-null float64\n",
      "Generosity                       158 non-null float64\n",
      "Dystopia Residual                158 non-null float64\n",
      "dtypes: float64(9), int64(1), object(2)\n",
      "memory usage: 14.9+ KB\n"
     ]
    }
   ],
   "source": [
    "# Exploring Datasets\n",
    "h2015.info()"
   ]
  },
  {
   "cell_type": "code",
   "execution_count": 9,
   "id": "sophisticated-british",
   "metadata": {},
   "outputs": [
    {
     "name": "stdout",
     "output_type": "stream",
     "text": [
      "<class 'pandas.core.frame.DataFrame'>\n",
      "RangeIndex: 157 entries, 0 to 156\n",
      "Data columns (total 13 columns):\n",
      "Country                          157 non-null object\n",
      "Region                           157 non-null object\n",
      "Happiness Rank                   157 non-null int64\n",
      "Happiness Score                  157 non-null float64\n",
      "Lower Confidence Interval        157 non-null float64\n",
      "Upper Confidence Interval        157 non-null float64\n",
      "Economy (GDP per Capita)         157 non-null float64\n",
      "Family                           157 non-null float64\n",
      "Health (Life Expectancy)         157 non-null float64\n",
      "Freedom                          157 non-null float64\n",
      "Trust (Government Corruption)    157 non-null float64\n",
      "Generosity                       157 non-null float64\n",
      "Dystopia Residual                157 non-null float64\n",
      "dtypes: float64(10), int64(1), object(2)\n",
      "memory usage: 16.1+ KB\n"
     ]
    }
   ],
   "source": [
    "h2016.info()"
   ]
  },
  {
   "cell_type": "code",
   "execution_count": 10,
   "id": "increased-charge",
   "metadata": {},
   "outputs": [
    {
     "name": "stdout",
     "output_type": "stream",
     "text": [
      "<class 'pandas.core.frame.DataFrame'>\n",
      "RangeIndex: 155 entries, 0 to 154\n",
      "Data columns (total 12 columns):\n",
      "Country                          155 non-null object\n",
      "Happiness.Rank                   155 non-null int64\n",
      "Happiness.Score                  155 non-null float64\n",
      "Whisker.high                     155 non-null float64\n",
      "Whisker.low                      155 non-null float64\n",
      "Economy..GDP.per.Capita.         155 non-null float64\n",
      "Family                           155 non-null float64\n",
      "Health..Life.Expectancy.         155 non-null float64\n",
      "Freedom                          155 non-null float64\n",
      "Generosity                       155 non-null float64\n",
      "Trust..Government.Corruption.    155 non-null float64\n",
      "Dystopia.Residual                155 non-null float64\n",
      "dtypes: float64(10), int64(1), object(1)\n",
      "memory usage: 14.7+ KB\n"
     ]
    }
   ],
   "source": [
    "h2017.info()"
   ]
  },
  {
   "cell_type": "code",
   "execution_count": 11,
   "id": "liked-minutes",
   "metadata": {},
   "outputs": [
    {
     "name": "stdout",
     "output_type": "stream",
     "text": [
      "<class 'pandas.core.frame.DataFrame'>\n",
      "RangeIndex: 156 entries, 0 to 155\n",
      "Data columns (total 9 columns):\n",
      "Overall rank                    156 non-null int64\n",
      "Country or region               156 non-null object\n",
      "Score                           156 non-null float64\n",
      "GDP per capita                  156 non-null float64\n",
      "Social support                  156 non-null float64\n",
      "Healthy life expectancy         156 non-null float64\n",
      "Freedom to make life choices    156 non-null float64\n",
      "Generosity                      156 non-null float64\n",
      "Perceptions of corruption       155 non-null float64\n",
      "dtypes: float64(7), int64(1), object(1)\n",
      "memory usage: 11.1+ KB\n"
     ]
    }
   ],
   "source": [
    "h2018.info()"
   ]
  },
  {
   "cell_type": "code",
   "execution_count": 23,
   "id": "written-bacteria",
   "metadata": {},
   "outputs": [
    {
     "name": "stdout",
     "output_type": "stream",
     "text": [
      "<class 'pandas.core.frame.DataFrame'>\n",
      "RangeIndex: 156 entries, 0 to 155\n",
      "Data columns (total 9 columns):\n",
      "Overall rank                    156 non-null int64\n",
      "Country or region               156 non-null object\n",
      "Score                           156 non-null float64\n",
      "GDP per capita                  156 non-null float64\n",
      "Social support                  156 non-null float64\n",
      "Healthy life expectancy         156 non-null float64\n",
      "Freedom to make life choices    156 non-null float64\n",
      "Generosity                      156 non-null float64\n",
      "Perceptions of corruption       156 non-null float64\n",
      "dtypes: float64(7), int64(1), object(1)\n",
      "memory usage: 11.1+ KB\n"
     ]
    }
   ],
   "source": [
    "# Exploring dataset\n",
    "happiness.info()"
   ]
  },
  {
   "cell_type": "code",
   "execution_count": 13,
   "id": "accomplished-prediction",
   "metadata": {},
   "outputs": [
    {
     "ename": "NameError",
     "evalue": "name 'df' is not defined",
     "output_type": "error",
     "traceback": [
      "\u001b[0;31m---------------------------------------------------------------------------\u001b[0m",
      "\u001b[0;31mNameError\u001b[0m                                 Traceback (most recent call last)",
      "\u001b[0;32m<ipython-input-13-5db350017dbe>\u001b[0m in \u001b[0;36m<module>\u001b[0;34m\u001b[0m\n\u001b[1;32m      2\u001b[0m \u001b[0;34m\u001b[0m\u001b[0m\n\u001b[1;32m      3\u001b[0m \u001b[0;31m# Parse Year colum to datetime format\u001b[0m\u001b[0;34m\u001b[0m\u001b[0;34m\u001b[0m\u001b[0;34m\u001b[0m\u001b[0m\n\u001b[0;32m----> 4\u001b[0;31m \u001b[0mdf\u001b[0m\u001b[0;34m[\u001b[0m\u001b[0;34m'Year'\u001b[0m\u001b[0;34m]\u001b[0m \u001b[0;34m=\u001b[0m \u001b[0mpd\u001b[0m\u001b[0;34m.\u001b[0m\u001b[0mto_datetime\u001b[0m\u001b[0;34m(\u001b[0m\u001b[0mdf\u001b[0m\u001b[0;34m[\u001b[0m\u001b[0;34m'Year'\u001b[0m\u001b[0;34m]\u001b[0m\u001b[0;34m,\u001b[0m \u001b[0merrors\u001b[0m \u001b[0;34m=\u001b[0m \u001b[0;34m'coerce'\u001b[0m\u001b[0;34m)\u001b[0m\u001b[0;34m\u001b[0m\u001b[0;34m\u001b[0m\u001b[0m\n\u001b[0m\u001b[1;32m      5\u001b[0m \u001b[0;34m\u001b[0m\u001b[0m\n\u001b[1;32m      6\u001b[0m \u001b[0;34m\u001b[0m\u001b[0m\n",
      "\u001b[0;31mNameError\u001b[0m: name 'df' is not defined"
     ]
    }
   ],
   "source": [
    "'''\n",
    "# Creating a new Year column \n",
    "\n",
    "# Parse Year colum to datetime format \n",
    "df['Year'] = pd.to_datetime(df['Year'], errors = 'coerce')\n",
    "\n",
    "\n",
    "# Merging Datasets \n",
    "\n",
    "'''"
   ]
  },
  {
   "cell_type": "code",
   "execution_count": null,
   "id": "revised-objective",
   "metadata": {},
   "outputs": [],
   "source": [
    "# Looking for the higher value in each column\n",
    "def highlight_cells(column):\n",
    "    for i in column:\n",
    "        \n",
    "    \n",
    "    #set default color\n",
    "    #df.loc[:,:] = 'background-color: papayawhip' \n",
    "    df.loc[:,:] = '' \n",
    "    #set particular cell colors\n",
    "    df.iloc[0,0] = 'background-color: red'\n",
    "    df.iloc[1,1] = 'background-color: orange'\n",
    "    df.iloc[2,2] = 'background-color: yellow'\n",
    "    df.iloc[3,3] = 'background-color: lightgreen'\n",
    "    df.iloc[4,4] = 'background-color: cyan'\n",
    "    df.iloc[5,5] = 'background-color: violet'\n",
    "    return df \n",
    "\n",
    "t = data.style.apply(highlight_cells, axis=None)"
   ]
  }
 ],
 "metadata": {
  "kernelspec": {
   "display_name": "ironhack",
   "language": "python",
   "name": "ironhack"
  },
  "language_info": {
   "codemirror_mode": {
    "name": "ipython",
    "version": 3
   },
   "file_extension": ".py",
   "mimetype": "text/x-python",
   "name": "python",
   "nbconvert_exporter": "python",
   "pygments_lexer": "ipython3",
   "version": "3.6.13"
  }
 },
 "nbformat": 4,
 "nbformat_minor": 5
}
