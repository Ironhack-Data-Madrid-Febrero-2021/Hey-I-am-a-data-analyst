{
 "cells": [
  {
   "cell_type": "code",
   "execution_count": null,
   "id": "secret-canberra",
   "metadata": {},
   "outputs": [],
   "source": [
    "endpoint = https://partners.api.skyscanner.net/apiservices/"
   ]
  },
  {
   "cell_type": "code",
   "execution_count": null,
   "id": "brave-chess",
   "metadata": {},
   "outputs": [],
   "source": [
    "GET \"https://partners.api.skyscanner.net/apiservices/\n",
    "    token/v2/gettoken?\n",
    "    apiKey={apiKey}\""
   ]
  },
  {
   "cell_type": "code",
   "execution_count": null,
   "id": "duplicate-toolbox",
   "metadata": {},
   "outputs": [],
   "source": []
  },
  {
   "cell_type": "code",
   "execution_count": null,
   "id": "stretch-renewal",
   "metadata": {},
   "outputs": [],
   "source": []
  }
 ],
 "metadata": {
  "kernelspec": {
   "display_name": "ironhack",
   "language": "python",
   "name": "ironhack"
  },
  "language_info": {
   "codemirror_mode": {
    "name": "ipython",
    "version": 3
   },
   "file_extension": ".py",
   "mimetype": "text/x-python",
   "name": "python",
   "nbconvert_exporter": "python",
   "pygments_lexer": "ipython3",
   "version": "3.6.13"
  }
 },
 "nbformat": 4,
 "nbformat_minor": 5
}
